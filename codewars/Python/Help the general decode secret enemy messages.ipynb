{
 "cells": [
  {
   "cell_type": "code",
   "execution_count": 1,
   "metadata": {},
   "outputs": [
    {
     "name": "stdout",
     "output_type": "stream",
     "text": [
      "aaaaaaaaaaaaaaaaaaaaaaaaaaaaaaaaaaaaaaaaaaaaaaaaaaaaaaaaaaaaaaaaaaaaaaaaaaaaaaa\n"
     ]
    }
   ],
   "source": [
    "def decode(s):\n",
    "    key = \"bdhpF,82QsLirJejtNmzZKgnB3SwTyXG ?.6YIcflxVC5WE94UA1OoD70MkvRuPqHa\"\n",
    "    dec = \"\"\n",
    "    cnt = 0\n",
    "    for i in s:\n",
    "        cnt += 1\n",
    "        if i in key:\n",
    "            dec += key[key.index(i) - cnt % len(key)]\n",
    "        else:\n",
    "            dec += i\n",
    "    return dec\n",
    "\n",
    "print(decode(\"bdhpF,82QsLirJejtNmzZKgnB3SwTyXG ?.6YIcflxVC5WE94UA1OoD70MkvRuPqHabdhpF,82QsLir\"))"
   ]
  },
  {
   "cell_type": "code",
   "execution_count": 9,
   "metadata": {},
   "outputs": [
    {
     "name": "stdout",
     "output_type": "stream",
     "text": [
      "90\n"
     ]
    },
    {
     "data": {
      "image/png": "[encoded data removed]",
      "text/plain": [
       "<Figure size 432x288 with 1 Axes>"
      ]
     },
     "metadata": {
      "needs_background": "light"
     },
     "output_type": "display_data"
    }
   ],
   "source": [
    "from IPython import get_ipython\n",
    "get_ipython().run_line_magic('reset', '-sf')\n",
    "\n",
    "from matplotlib import pyplot as plt\n",
    "from z3 import *\n",
    "\n",
    "enc = \"bdhpF,82QsLirJejtNmzZKgnB3SwTyXG ?.6YIcflxVC5WE94UA1OoD70MkvRuPqHa\"\n",
    "plain = \"aaaaaaaaaaaaaaaaaaaaaaaaaaaaaaaaaaaaaaaaaaaaaaaaaaaaaaaaaaaaaaaaaa\"\n",
    "\n",
    "ints_plain = Ints(\"plain_%d\" % i for i in range(len(plain)))\n",
    "ints_key = Ints(\"key_%d\" % i for i in range(len(enc)))\n",
    "\n",
    "plain_value = [(ints_plain[i] == ord(plain[i])) for i in range(len(plain))]\n",
    "result_enc = [(ints_key[i] + ints_plain[i] == ord(enc[i]))\n",
    "               for i in range(len(enc))]\n",
    "\n",
    "s = Solver()\n",
    "s.add(plain_value + result_enc)\n",
    "if s.check() == sat:\n",
    "    m = s.model()\n",
    "    num_arr = ([int(\"%s\" % (m[i])) for i in ints_key])\n",
    "    # print(abs(max(num_arr))+abs(min(num_arr)))\n",
    "    \n",
    "    # setting the ranges and no. of intervals\n",
    "    range = (-100, 100)\n",
    "    bins = 10\n",
    "    \n",
    "    # plotting a histogram\n",
    "    plt.hist(num_arr, bins, range, color = 'green',\n",
    "        histtype = 'bar', rwidth = 0.8)\n",
    "    \n"
   ]
  }
 ],
 "metadata": {
  "kernelspec": {
   "display_name": "Python 3.10.4 64-bit",
   "language": "python",
   "name": "python3"
  },
  "language_info": {
   "codemirror_mode": {
    "name": "ipython",
    "version": 3
   },
   "file_extension": ".py",
   "mimetype": "text/x-python",
   "name": "python",
   "nbconvert_exporter": "python",
   "pygments_lexer": "ipython3",
   "version": "3.10.4"
  },
  "orig_nbformat": 4,
  "vscode": {
   "interpreter": {
    "hash": "e7370f93d1d0cde622a1f8e1c04877d8463912d04d973331ad4851f04de6915a"
   }
  }
 },
 "nbformat": 4,
 "nbformat_minor": 2
}
